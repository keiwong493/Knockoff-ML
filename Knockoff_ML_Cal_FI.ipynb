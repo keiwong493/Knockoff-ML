{
 "cells": [
  {
   "cell_type": "code",
   "execution_count": 2,
   "id": "651a2284-e775-41aa-b9b8-e081d30d704e",
   "metadata": {},
   "outputs": [],
   "source": [
    "import numpy as np\n",
    "import pandas as pd\n",
    "import shap\n",
    "import warnings\n",
    "import sklearn\n",
    "warnings.filterwarnings(\"ignore\")"
   ]
  },
  {
   "cell_type": "code",
   "execution_count": null,
   "id": "1be9041d-f2ec-4eaa-9458-1b2ab7bbc7a5",
   "metadata": {},
   "outputs": [],
   "source": [
    "#LR\n",
    "from sklearn.linear_model import LogisticRegression\n",
    "def lr(X, y, index):\n",
    "    logit_model = LogisticRegression()\n",
    "    logit_model.fit(X, y)\n",
    "    explainer = shap.Explainer(logit_model.predict_proba, X)\n",
    "    X_background = X.iloc[index]  \n",
    "    shap_values = explainer(X_background)\n",
    "    importance = shap_values.abs.mean(axis=0).values[:, 0]\n",
    "    return importance\n"
   ]
  },
  {
   "cell_type": "code",
   "execution_count": null,
   "id": "7402049b-f086-4d2e-a038-ec75717d6576",
   "metadata": {},
   "outputs": [],
   "source": [
    "#CatB\n",
    "from catboost import CatBoostClassifier\n",
    "def catb(X, y, index):\n",
    "    CATB = CatBoostClassifier(random_state=2023, verbose=False)\n",
    "    CATB.fit(X, y)\n",
    "    explainer = shap.TreeExplainer(CATB)\n",
    "    X_background = X.iloc[index]\n",
    "    shap_values = explainer(X_background)\n",
    "    importance = shap_values.abs.mean(axis=0).values\n",
    "    return importance"
   ]
  },
  {
   "cell_type": "code",
   "execution_count": null,
   "id": "717112e3-be01-429d-9327-5d58ebe49a35",
   "metadata": {},
   "outputs": [],
   "source": [
    "#RF\n",
    "from sklearn.ensemble import RandomForestClassifier\n",
    "def rf(X, y, index):\n",
    "    rf = RandomForestClassifier(random_state=2023)\n",
    "    rf.fit(X, y)\n",
    "    explainer = shap.TreeExplainer(rf)\n",
    "    X_background = X.iloc[index]\n",
    "    shap_values = explainer(X_background)\n",
    "    importance = shap_values.abs.mean(axis=0).values[:,0]\n",
    "    return importance"
   ]
  },
  {
   "cell_type": "code",
   "execution_count": null,
   "id": "7f911183-3515-439a-baa7-71d62866c8ed",
   "metadata": {},
   "outputs": [],
   "source": [
    "#NN\n",
    "from sklearn.neural_network import MLPClassifier\n",
    "def nn(X, y, index):\n",
    "    nn = MLPClassifier(solver=\"lbfgs\", alpha=1e-1, hidden_layer_sizes=(5, 2), random_state=0)\n",
    "    nn.fit(X, y)\n",
    "    explainer = shap.Explainer(nn.predict_proba, X)\n",
    "    X_background = X.iloc[index]\n",
    "    shap_values = explainer(X_background)\n",
    "    importance = shap_values.abs.mean(axis=0).values[:,0]\n",
    "    return importance\n"
   ]
  },
  {
   "cell_type": "code",
   "execution_count": null,
   "id": "339f1019-7858-4176-ae1c-6d24c6c4595d",
   "metadata": {},
   "outputs": [],
   "source": [
    "outcome = pd.read_csv(mimic_outcome.csv\")\n",
    "y = outcome['icudead']\n",
    "X = pd.read_csv(\"mimic_original.csv\")\n",
    "index = pd.read_csv(\"Index.csv\", header=None)\n",
    "index = index[0].astype(int).tolist()"
   ]
  },
  {
   "cell_type": "code",
   "execution_count": null,
   "id": "003c5af8-106c-4eac-92bc-25184188815c",
   "metadata": {},
   "outputs": [],
   "source": [
    "#Cal FI\n",
    "M=5\n",
    "lr_q1 = lr(X,y,index)\n",
    "lr_im = pd.DataFrame(np.zeros((M+1, 100)))\n",
    "lr_im.iloc[0] = lr_q1\n",
    "    \n",
    "catb_q1 = catb(X,y,index)\n",
    "catb_im = pd.DataFrame(np.zeros((M+1, 100)))\n",
    "catb_im.iloc[0] = catb_q1\n",
    "\n",
    "rf_q1 = rf(X,y,index)\n",
    "rf_im = pd.DataFrame(np.zeros((M+1, 100)))\n",
    "rf_im.iloc[0] = rf_q1\n",
    "    \n",
    "nn_q1 = nn(X,y,index)\n",
    "nn_im = pd.DataFrame(np.zeros((M+1, 100)))\n",
    "nn_im.iloc[0] = nn_q1\n",
    "\n",
    "\n",
    "    \n",
    "print(\"Original, Done!\")\n",
    "\n",
    "for i in range(M):\n",
    "    \n",
    "    file = f'mimic_knockoff_k{i + 1}.csv'  \n",
    "    \n",
    "    data = pd.read_csv(file)\n",
    "        \n",
    "    lr_im.iloc[i+1] = lr(data,y,index)\n",
    "    catb_im.iloc[i+1] = catb(data,y,index)\n",
    "    rf_im.iloc[i+1] = rf(data,y,index)\n",
    "    nn_im.iloc[i+1] = nn(data,y,index)\n",
    "    \n",
    "    \n",
    "    print(f\"Index: {i + 1}, Done!\")\n",
    "        \n",
    "    \n",
    "basepath = \"\"    \n",
    "file_lr = f\"{basepath}/lr_fi_icu.csv\"\n",
    "file_catb = f\"{basepath}/catb_fi_icu.csv\"\n",
    "file_rf = f\"{basepath}/rf_fi_icu.csv\"\n",
    "file_nn = f\"{basepath}/nn_fi_icu.csv\"\n",
    "    \n",
    "lr_im.to_csv(file_lr)\n",
    "catb_im.to_csv(file_catb)\n",
    "rf_im.to_csv(file_rf)\n",
    "nn_im.to_csv(file_nn)\n"
   ]
  },
  {
   "cell_type": "code",
   "execution_count": null,
   "id": "5f0ea97f-bf7e-4f2b-b04c-2f258e554f46",
   "metadata": {},
   "outputs": [],
   "source": []
  }
 ],
 "metadata": {
  "kernelspec": {
   "display_name": "Python 3 (ipykernel)",
   "language": "python",
   "name": "python3"
  },
  "language_info": {
   "codemirror_mode": {
    "name": "ipython",
    "version": 3
   },
   "file_extension": ".py",
   "mimetype": "text/x-python",
   "name": "python",
   "nbconvert_exporter": "python",
   "pygments_lexer": "ipython3",
   "version": "3.9.13"
  }
 },
 "nbformat": 4,
 "nbformat_minor": 5
}
