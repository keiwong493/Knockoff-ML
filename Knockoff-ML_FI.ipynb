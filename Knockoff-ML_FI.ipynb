{
 "cells": [
  {
   "cell_type": "code",
   "execution_count": 1,
   "id": "11217d74-aba0-47a0-92c5-b296c1a855ee",
   "metadata": {},
   "outputs": [],
   "source": [
    "import numpy as np\n",
    "import pandas as pd\n",
    "import shap\n",
    "import sklearn\n",
    "from catboost import CatBoostClassifier\n",
    "from lightgbm import LGBMClassifier\n",
    "from xgboost import XGBClassifier\n",
    "from sklearn.ensemble import GradientBoostingClassifier\n",
    "from sklearn.ensemble import RandomForestClassifier"
   ]
  },
  {
   "cell_type": "code",
   "execution_count": 2,
   "id": "a01171cb-36cd-4b13-bf27-214f0fb60aa3",
   "metadata": {},
   "outputs": [],
   "source": [
    "def cal_abs_shap(X, y, index, model_name):\n",
    "    if model_name == \"catb\":\n",
    "        model = CatBoostClassifier(random_state=2025, verbose=False)\n",
    "        model.fit(X, y)\n",
    "        explainer = shap.TreeExplainer(model)\n",
    "        X_background = X.iloc[index]\n",
    "        shap_values = explainer(X_background)\n",
    "        importance = shap_values.abs.mean(axis=0).values\n",
    "    elif model_name == \"ligb\":\n",
    "        model = LGBMClassifier(random_state=2025)\n",
    "        model.fit(X, y)\n",
    "        explainer = shap.TreeExplainer(model)\n",
    "        X_background = X.iloc[index]\n",
    "        shap_values = explainer(X_background)\n",
    "        importance = shap_values.abs.mean(axis=0).values\n",
    "    elif model_name == \"xgb\":\n",
    "        model = XGBClassifier(random_state=2025, eval_metric='logloss')\n",
    "        model.fit(X, y)\n",
    "        explainer = shap.TreeExplainer(model)\n",
    "        X_background = X.iloc[index]\n",
    "        shap_values = explainer(X_background)\n",
    "        importance = shap_values.abs.mean(axis=0).values\n",
    "    elif model_name == \"gbdt\":\n",
    "        model = GradientBoostingClassifier(random_state=2025)\n",
    "        model.fit(X, y)\n",
    "        explainer = shap.Explainer(model)\n",
    "        X_background = X.iloc[index]\n",
    "        shap_values = explainer(X_background)\n",
    "        importance = shap_values.abs.mean(axis=0).values\n",
    "    elif model_name == \"rf\":\n",
    "        model = RandomForestClassifier(random_state=2025)\n",
    "        model.fit(X, y)\n",
    "        explainer = shap.TreeExplainer(model)\n",
    "        X_background = X.iloc[index]\n",
    "        shap_values = explainer(X_background)\n",
    "        importance = shap_values.abs.mean(axis=0).values[:,0]\n",
    "    else:\n",
    "        raise ValueError(f\"Unrecognized model name: {model_name}. Please check your input.\")\n",
    "    return importance"
   ]
  },
  {
   "cell_type": "code",
   "execution_count": 5,
   "id": "45a7dc88-8871-46aa-b87b-0fcd3a672409",
   "metadata": {},
   "outputs": [],
   "source": [
    "def calculate_fi(X, y, index, models, M=5, kopath=\"\", outpath=\"\"):\n",
    "\n",
    "    ncol = X.shape[1]\n",
    "    y=y.to_numpy().ravel()\n",
    "    index = index[0].astype(int).tolist()\n",
    "\n",
    "    \n",
    "    for model_name in models:\n",
    "        im = pd.DataFrame(np.zeros((M + 1, ncol)))\n",
    "        im.iloc[0] = cal_abs_shap(X, y, index,model_name=model_name)\n",
    "\n",
    "        print(f\"{model_name}: Original, Done!\")\n",
    "\n",
    "        for i in range(M):\n",
    "            file = f'{kopath}/X_k{i + 1}.csv'\n",
    "            data = pd.read_csv(file)\n",
    "            im.iloc[i+1] = cal_abs_shap(data,y,index,model_name=model_name)\n",
    "            print(f\"{model_name}: Index: {i + 1}, Done!\")\n",
    "\n",
    "        file_path = f\"{outpath}/{model_name}_fi.csv\"\n",
    "        im.to_csv(file_path, index=False)\n",
    "        print(f\"{model_name}: Write FI, Done!\")\n",
    "    "
   ]
  },
  {
   "cell_type": "code",
   "execution_count": null,
   "id": "7732a3e7-6e56-45ba-92a5-1d1403c285a4",
   "metadata": {},
   "outputs": [],
   "source": [
    "X = pd.read_csv('/Data/X.csv')\n",
    "y = pd.read_csv('/Data/y.csv')\n",
    "index = pd.read_csv('/Data/Index.csv', header=None)\n",
    "calculate_fi(X, y, index, models=['catb', 'ligb', 'xgb', 'gbdt', 'rf'], M=5, kopath=\"\", outpath=\"\")"
   ]
  }
 ],
 "metadata": {
  "kernelspec": {
   "display_name": "Python 3 (ipykernel)",
   "language": "python",
   "name": "python3"
  },
  "language_info": {
   "codemirror_mode": {
    "name": "ipython",
    "version": 3
   },
   "file_extension": ".py",
   "mimetype": "text/x-python",
   "name": "python",
   "nbconvert_exporter": "python",
   "pygments_lexer": "ipython3",
   "version": "3.9.13"
  }
 },
 "nbformat": 4,
 "nbformat_minor": 5
}
