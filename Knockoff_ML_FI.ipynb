{
 "cells": [
  {
   "cell_type": "code",
   "execution_count": 1,
   "id": "7035e08b-d3c2-4d3e-805e-7c669ea00b0c",
   "metadata": {},
   "outputs": [],
   "source": [
    "import numpy as np\n",
    "import pandas as pd\n",
    "import shap\n",
    "import sklearn\n",
    "import time"
   ]
  },
  {
   "cell_type": "code",
   "execution_count": null,
   "id": "be4cae2c-517a-4c9b-b678-1d1c823bfb90",
   "metadata": {},
   "outputs": [],
   "source": [
    "#CatBoost\n",
    "from catboost import CatBoostClassifier\n",
    "def catb(X, y, index):\n",
    "    model = CatBoostClassifier(random_state=2025, verbose=False)\n",
    "    model.fit(X, y)\n",
    "    explainer = shap.TreeExplainer(model)\n",
    "    X_background = X.iloc[index]\n",
    "    shap_values = explainer(X_background)\n",
    "    importance = shap_values.abs.mean(axis=0).values\n",
    "    return importance"
   ]
  },
  {
   "cell_type": "code",
   "execution_count": null,
   "id": "e28684d5-e074-46ae-aa86-69080c15de3e",
   "metadata": {},
   "outputs": [],
   "source": [
    "#LightGBM\n",
    "from lightgbm import LGBMClassifier\n",
    "def ligb(X, y, index):\n",
    "    model = LGBMClassifier(random_state=2025)\n",
    "    model.fit(X, y)\n",
    "    explainer = shap.TreeExplainer(model)\n",
    "    X_background = X.iloc[index]\n",
    "    shap_values = explainer(X_background)\n",
    "    importance = shap_values.abs.mean(axis=0).values\n",
    "    return importance"
   ]
  },
  {
   "cell_type": "code",
   "execution_count": null,
   "id": "c8cb4d9e-fd39-4719-91e1-0eb52b6b42bf",
   "metadata": {},
   "outputs": [],
   "source": [
    "#XGBoost\n",
    "from xgboost import XGBClassifier\n",
    "def xgb(X, y, index):\n",
    "    model = XGBClassifier(random_state=2025, eval_metric='logloss')\n",
    "    model.fit(X, y)\n",
    "    explainer = shap.TreeExplainer(model)\n",
    "    X_background = X.iloc[index]\n",
    "    shap_values = explainer(X_background)\n",
    "    importance = shap_values.abs.mean(axis=0).values\n",
    "    return importance"
   ]
  },
  {
   "cell_type": "code",
   "execution_count": null,
   "id": "c98e5d0e-112e-4eaa-a59f-22f19d16c084",
   "metadata": {},
   "outputs": [],
   "source": [
    "#GBDT\n",
    "from sklearn.ensemble import GradientBoostingClassifier\n",
    "def gbdt(X, y, index):\n",
    "    model = GradientBoostingClassifier(random_state=2025)\n",
    "    model.fit(X, y)\n",
    "    explainer = shap.Explainer(model)\n",
    "    X_background = X.iloc[index]\n",
    "    shap_values = explainer(X_background)\n",
    "    importance = shap_values.abs.mean(axis=0).values\n",
    "    return importance"
   ]
  },
  {
   "cell_type": "code",
   "execution_count": 2,
   "id": "897167ba-e472-4abb-8ebb-a5f7d6a2f31b",
   "metadata": {},
   "outputs": [],
   "source": [
    "#Random Forest\n",
    "from sklearn.ensemble import RandomForestClassifier\n",
    "def rf(X, y, index):\n",
    "    rmodelf = RandomForestClassifier(random_state=2025)\n",
    "    model.fit(X, y)\n",
    "    explainer = shap.TreeExplainer(model)\n",
    "    X_background = X.iloc[index]\n",
    "    shap_values = explainer(X_background)\n",
    "    importance = shap_values.abs.mean(axis=0).values[:,0]\n",
    "    return importance"
   ]
  },
  {
   "cell_type": "code",
   "execution_count": null,
   "id": "23f67f70-2982-43e1-b6e5-f2c1c31150a8",
   "metadata": {},
   "outputs": [],
   "source": [
    "X = pd.read_csv(\"data matrix X\")\n",
    "y = pd.read_csv(\"outcome y\")\n",
    "index = pd.read_csv(\"index for subset to calculate shap values\")\n",
    "M=5 #number of knockoffs\n",
    "\n",
    "start_time = time.time()\n",
    "\n",
    "ncol = X.shape[1]\n",
    "rf_q1 = rf(X,y,index)\n",
    "rf_im = pd.DataFrame(np.zeros((M+1, ncol)))\n",
    "rf_im.iloc[0] = rf_q1\n",
    "    \n",
    "catb_q1 = catb(X,y,index)\n",
    "catb_im = pd.DataFrame(np.zeros((M+1, ncol)))\n",
    "catb_im.iloc[0] = catb_q1\n",
    "\n",
    "xgb_q1 = xgb(X,y,index)\n",
    "xgb_im = pd.DataFrame(np.zeros((M+1, ncol)))\n",
    "xgb_im.iloc[0] = xgb_q1\n",
    "\n",
    "ligb_q1 = ligb(X,y,index)\n",
    "ligb_im = pd.DataFrame(np.zeros((M+1, ncol)))\n",
    "ligb_im.iloc[0] = ligb_q1\n",
    "\n",
    "gbdt_q1 = gbdt(X,y,index)\n",
    "gbdt_im = pd.DataFrame(np.zeros((M+1, ncol)))\n",
    "gbdt_im.iloc[0] = gbdt_q1\n",
    "\n",
    "\n",
    "    \n",
    "print(\"Original, Done!\")\n",
    "\n",
    "for i in range(M):\n",
    "    \n",
    "    file = f'knockoff data matrix X_i'  \n",
    "    \n",
    "    data = pd.read_csv(file)\n",
    "        \n",
    "    rf_im.iloc[i+1] = rf(data,y,index)\n",
    "    catb_im.iloc[i+1] = catb(data,y,index)\n",
    "    xgb_im.iloc[i+1] = xgb(data,y,index)\n",
    "    ligb_im.iloc[i+1] = ligb(data,y,index)\n",
    "    gbdt_im.iloc[i+1] = gbdt(data,y,index)\n",
    "    \n",
    "    \n",
    "    print(f\"Index: {i + 1}, Done!\")\n",
    "        \n",
    "    \n",
    "basepath = \"\"    \n",
    "file_rf = f\"{basepath}/rf_fi.csv\"\n",
    "file_catb = f\"{basepath}/catb_fi.csv\"\n",
    "file_xgb = f\"{basepath}/xgb_fi.csv\"\n",
    "file_ligb = f\"{basepath}/ligb_fi.csv\"\n",
    "file_gbdt = f\"{basepath}/gbdt_fi.csv\"\n",
    "    \n",
    "rf_im.to_csv(file_rf)\n",
    "catb_im.to_csv(file_catb)\n",
    "xgb_im.to_csv(file_xgb)\n",
    "ligb_im.to_csv(file_ligb)\n",
    "gbdt_im.to_csv(file_gbdt)\n",
    "\n",
    "end_time = time.time()\n",
    "elapsed_time = end_time - start_time\n",
    "\n",
    "elapsed_minutes = elapsed_time / 60\n",
    "print(f\"Total running time: {elapsed_minutes:.2f} minutes\")"
   ]
  }
 ],
 "metadata": {
  "kernelspec": {
   "display_name": "Python 3 (ipykernel)",
   "language": "python",
   "name": "python3"
  },
  "language_info": {
   "codemirror_mode": {
    "name": "ipython",
    "version": 3
   },
   "file_extension": ".py",
   "mimetype": "text/x-python",
   "name": "python",
   "nbconvert_exporter": "python",
   "pygments_lexer": "ipython3",
   "version": "3.9.13"
  }
 },
 "nbformat": 4,
 "nbformat_minor": 5
}
